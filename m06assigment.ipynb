{
 "cells": [
  {
   "cell_type": "code",
   "execution_count": 8,
   "id": "c0de7120",
   "metadata": {},
   "outputs": [],
   "source": [
    "from datetime import date\n",
    "now = date.today()\n",
    "now_str = now.isoformat()\n",
    "with open('today.txt', 'wt') as output: print(now_str, file=output)\n",
    "    "
   ]
  },
  {
   "cell_type": "code",
   "execution_count": 1,
   "id": "c8c19c3b",
   "metadata": {},
   "outputs": [
    {
     "data": {
      "text/plain": [
       "'2023-05-15\\n'"
      ]
     },
     "execution_count": 1,
     "metadata": {},
     "output_type": "execute_result"
    }
   ],
   "source": [
    "with open('today.txt', 'rt') as input: today_string = input.read()  \n",
    "today_string"
   ]
  },
  {
   "cell_type": "code",
   "execution_count": 5,
   "id": "d8bc7e4b",
   "metadata": {
    "scrolled": false
   },
   "outputs": [
    {
     "data": {
      "text/plain": [
       "datetime.datetime(2023, 5, 15, 0, 0)"
      ]
     },
     "execution_count": 5,
     "metadata": {},
     "output_type": "execute_result"
    }
   ],
   "source": [
    "import datetime\n",
    "fmt = '%Y-%m-%d\\n'\n",
    "datetime.datetime.strptime(today_string, fmt)\n"
   ]
  },
  {
   "cell_type": "code",
   "execution_count": 14,
   "id": "7c3e9e6a",
   "metadata": {
    "scrolled": true
   },
   "outputs": [
    {
     "name": "stdout",
     "output_type": "stream",
     "text": [
      "The time is 2023-05-15 17:42:23.041474\n",
      "The time is 2023-05-15 17:42:23.417289\n",
      "The time is 2023-05-15 17:42:24.046863\n"
     ]
    }
   ],
   "source": [
    "import multiprocessing\n",
    "from datetime import datetime\n",
    "import time\n",
    "import random\n",
    "def ntime():\n",
    "   cur = datetime.now()\n",
    "   print(\"The time is {}\".format(cur))\n",
    "   time.sleep(random.random())\n",
    "if __name__ == '__main__':\n",
    "   proc1 = multiprocessing.Process(target=ntime())\n",
    "   proc2 = multiprocessing.Process(target=ntime())\n",
    "   proc3 = multiprocessing.Process(target=ntime())\n",
    "   proc1.start()\n",
    "   proc2.start()\n",
    "   proc3.start()\n",
    "   proc1.join()\n",
    "   proc2.join()\n",
    "   proc3.join()\n"
   ]
  },
  {
   "cell_type": "code",
   "execution_count": null,
   "id": "c1564e25",
   "metadata": {},
   "outputs": [],
   "source": []
  },
  {
   "cell_type": "code",
   "execution_count": null,
   "id": "6da2a680",
   "metadata": {},
   "outputs": [],
   "source": []
  },
  {
   "cell_type": "code",
   "execution_count": null,
   "id": "fe3ed096",
   "metadata": {},
   "outputs": [],
   "source": []
  },
  {
   "cell_type": "code",
   "execution_count": null,
   "id": "d07befbf",
   "metadata": {},
   "outputs": [],
   "source": []
  }
 ],
 "metadata": {
  "kernelspec": {
   "display_name": "Python 3 (ipykernel)",
   "language": "python",
   "name": "python3"
  },
  "language_info": {
   "codemirror_mode": {
    "name": "ipython",
    "version": 3
   },
   "file_extension": ".py",
   "mimetype": "text/x-python",
   "name": "python",
   "nbconvert_exporter": "python",
   "pygments_lexer": "ipython3",
   "version": "3.10.9"
  }
 },
 "nbformat": 4,
 "nbformat_minor": 5
}
